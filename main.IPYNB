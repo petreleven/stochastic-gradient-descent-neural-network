import numpy as np
from keras.datasets import mnist
import sys

(x_train,y_train),(x_test,y_test) = mnist.load_data()

images ,labels = (x_train[0:1000].reshape(1000,28*28)/255,y_train[0:1000])

one_hot_labels = np.zeros((len(labels),10))

for i,l in enumerate(labels):
    one_hot_labels [i][l] = 1
labels = one_hot_labels

#TESTING DATA
test_images = x_test.reshape(len(x_test),28*28)/255
test_labels = np.zeros((len(y_test),10))

for i,l in enumerate (y_test):
    test_labels[i][l] = 1

relu = lambda x:(x>0) * x
relu2deriv = lambda output:output >= 0
alpha,hidden_size,pixelsPerImage,num_labels =(0.005,40,784,10)
np.random.seed(1)
weights_01 = 0.2 * np.random.random((pixelsPerImage,hidden_size)) - 0.1
weights_02 = 0.2 * np.random.random((hidden_size,num_labels)) - 0.1
for iterations in range (350):
    (Train_error,Train_correct_cnt) = (0.0,0)
    for i in range (len(images)):
        layer_0 = images[i:i+1]
        layer_1 = relu(np.dot(layer_0,weights_01))
        drop_out_mask =  np.random.randint(2,size = layer_1.shape)
        layer_1 *= drop_out_mask * 2
        layer_2 = np.dot(layer_1,weights_02)
        Train_error += np.sum((labels[i:i+1] - layer_2 ) ** 2)
        Train_correct_cnt += int(np.argmax(layer_2) == np.argmax(labels[i:i+1]))
        layer_2_delta = labels[i:i+1] - layer_2
        layer_1_delta = layer_2_delta.dot(weights_02.T) * relu2deriv(layer_1)
        layer_1_delta *= drop_out_mask
        weights_01_delta = layer_0.T.dot(layer_1_delta)
        weights_02_delta = layer_1.T.dot(layer_2_delta)

        weights_01 += alpha * weights_01_delta
        weights_02 += alpha * weights_02_delta
    if(iterations % 10 == 0 or iterations == 349):  
        test_error, test_correct_cnt = (0.0, 0)
        for i in range(len(test_images)):
            layer_0 = test_images[i:i+1]        
            layer_1 = relu(np.dot(layer_0,weights_01))        
            layer_2 = np.dot(layer_1,weights_02)
            test_error += np.sum((test_labels[i:i+1] - layer_2) ** 2)       
            test_correct_cnt += int(np.argmax(layer_2) == np.argmax(test_labels[i:i+1]))  
      
        sys.stdout.write(f"{iterations} "+" Train_Err:" + str(Train_error/float(len(images)))[0:5] +           
                             " Test-Acc:" + str(Train_correct_cnt/float(len(images)))[0:5])
        sys.stdout.write(" Test-Err:" + str(test_error/float(len(test_images)))[0:5] +           
                          " Test-Acc:" + str(test_correct_cnt/float(len(test_images)))[0:5] + "\n")
