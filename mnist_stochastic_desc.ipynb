{
 "cells": [
  {
   "cell_type": "code",
   "execution_count": 72,
   "metadata": {},
   "outputs": [],
   "source": [
    "import numpy as np\n",
    "np.random.seed(1)\n",
    "from keras.datasets import mnist\n",
    "import sys"
   ]
  },
  {
   "cell_type": "code",
   "execution_count": 73,
   "metadata": {},
   "outputs": [],
   "source": [
    "(x_train,y_train),(x_test,y_test) = mnist.load_data()\n",
    "\n",
    "images = x_train[0:1000].reshape(1000,28*28)/255\n",
    "labels = y_train[0:1000]\n",
    "one_hot_labels = np.zeros((len(labels),10))\n",
    "\n",
    "for i,j in enumerate (labels):\n",
    "    one_hot_labels[i][j] = 1\n",
    "labels = one_hot_labels"
   ]
  },
  {
   "cell_type": "code",
   "execution_count": 74,
   "metadata": {},
   "outputs": [],
   "source": [
    "test_images = x_test.reshape(len(x_test),28 * 28)/255\n",
    "test_labels = np.zeros((len(y_test),10))\n",
    "for i,j in enumerate (y_test):\n",
    "    test_labels[i][j] = 1\n"
   ]
  },
  {
   "cell_type": "code",
   "execution_count": 75,
   "metadata": {},
   "outputs": [],
   "source": [
    "training_iterations =300\n",
    "batch_size = 100\n",
    "hidden_size = 100\n",
    "num_labels = 10\n",
    "pixels_num = 784\n",
    "num_labels = 10;\n",
    "alpha = 0.001\n",
    "relu = lambda x:(x >= 0) * x\n",
    "relu_deriv = lambda output : (output >= 0)\n",
    "\n",
    "\n",
    "weights_0_1 = 0.2 * np.random.random((pixels_num,hidden_size)) - 0.1\n",
    "weights_1_2 = 0.2 * np.random.random((hidden_size,num_labels)) - 0.1\n",
    "        "
   ]
  },
  {
   "cell_type": "code",
   "execution_count": 76,
   "metadata": {},
   "outputs": [
    {
     "name": "stdout",
     "output_type": "stream",
     "text": [
      "\n",
      "I:0 Test-Err:0.140 Test-Acc:0.3832 Train-Err:1.284 Train-Acc:0.165\n",
      "I:10 Test-Err:0.042 Test-Acc:0.7173 Train-Err:0.591 Train-Acc:0.672\n",
      "I:20 Test-Err:0.045 Test-Acc:0.7571 Train-Err:0.532 Train-Acc:0.729\n",
      "I:30 Test-Err:0.054 Test-Acc:0.7793 Train-Err:0.498 Train-Acc:0.754\n",
      "I:40 Test-Err:0.062 Test-Acc:0.7877 Train-Err:0.489 Train-Acc:0.749\n",
      "I:50 Test-Err:0.068 Test-Acc:0.793 Train-Err:0.468 Train-Acc:0.775\n",
      "I:60 Test-Err:0.074 Test-Acc:0.7995 Train-Err:0.452 Train-Acc:0.799\n",
      "I:70 Test-Err:0.075 Test-Acc:0.803 Train-Err:0.453 Train-Acc:0.792\n",
      "I:80 Test-Err:0.085 Test-Acc:0.7968 Train-Err:0.457 Train-Acc:0.786\n",
      "I:90 Test-Err:0.080 Test-Acc:0.795 Train-Err:0.454 Train-Acc:0.799\n",
      "I:100 Test-Err:0.084 Test-Acc:0.793 Train-Err:0.447 Train-Acc:0.796\n",
      "I:110 Test-Err:0.083 Test-Acc:0.7943 Train-Err:0.426 Train-Acc:0.816\n",
      "I:120 Test-Err:0.082 Test-Acc:0.7966 Train-Err:0.431 Train-Acc:0.813\n",
      "I:130 Test-Err:0.087 Test-Acc:0.7906 Train-Err:0.434 Train-Acc:0.816\n",
      "I:140 Test-Err:0.084 Test-Acc:0.7874 Train-Err:0.437 Train-Acc:0.822\n",
      "I:150 Test-Err:0.091 Test-Acc:0.7899 Train-Err:0.414 Train-Acc:0.823\n",
      "I:160 Test-Err:0.094 Test-Acc:0.797 Train-Err:0.427 Train-Acc:0.811\n",
      "I:170 Test-Err:0.090 Test-Acc:0.7884 Train-Err:0.418 Train-Acc:0.828\n",
      "I:180 Test-Err:0.097 Test-Acc:0.7935 Train-Err:0.407 Train-Acc:0.834\n",
      "I:190 Test-Err:0.092 Test-Acc:0.7935 Train-Err:0.410 Train-Acc:0.831\n",
      "I:200 Test-Err:0.108 Test-Acc:0.7972 Train-Err:0.416 Train-Acc:0.829\n",
      "I:210 Test-Err:0.097 Test-Acc:0.7923 Train-Err:0.409 Train-Acc:0.83\n",
      "I:220 Test-Err:0.097 Test-Acc:0.8032 Train-Err:0.396 Train-Acc:0.832\n",
      "I:230 Test-Err:0.098 Test-Acc:0.8036 Train-Err:0.393 Train-Acc:0.853\n",
      "I:240 Test-Err:0.100 Test-Acc:0.8047 Train-Err:0.397 Train-Acc:0.844\n",
      "I:250 Test-Err:0.104 Test-Acc:0.8028 Train-Err:0.386 Train-Acc:0.843\n",
      "I:260 Test-Err:0.095 Test-Acc:0.8038 Train-Err:0.394 Train-Acc:0.843\n",
      "I:270 Test-Err:0.095 Test-Acc:0.8014 Train-Err:0.384 Train-Acc:0.845\n",
      "I:280 Test-Err:0.098 Test-Acc:0.8067 Train-Err:0.401 Train-Acc:0.846\n",
      "I:290 Test-Err:0.105 Test-Acc:0.7975 Train-Err:0.383 Train-Acc:0.851"
     ]
    }
   ],
   "source": [
    "for j in range (training_iterations):\n",
    "    error = 0.0\n",
    "    correct_cnt = 0\n",
    "    for i in range (int((len(images)/batch_size))):\n",
    "        batch_start,batch_end = ((i * batch_size),((i + 1) * batch_size))\n",
    "        layer_0 = images[batch_start:batch_end]\n",
    "        layer_1 = relu(np.dot(layer_0,weights_0_1))\n",
    "        drop_out_mask = np.random.randint(2,size = layer_1.shape)\n",
    "        layer_1 *= drop_out_mask * 2\n",
    "        layer_2 = np.dot(layer_1, weights_1_2)\n",
    "        \n",
    "        \n",
    "        error +=  np.sum((labels[batch_start:batch_end] - layer_2) ** 2)\n",
    "        for k in range (batch_size):\n",
    "            correct_cnt += int(np.argmax(layer_2[k:k+1])==np.argmax(labels[batch_start+k:batch_start + k + 1 ]))\n",
    "            layer_2_delta = (labels[batch_start:batch_end] - layer_2)/batch_size\n",
    "            layer_1_delta = layer_2_delta.dot(weights_1_2.T) * relu_deriv(layer_1) \n",
    "            layer_1_delta *= drop_out_mask\n",
    "            \n",
    "            weights_1_2 += alpha * layer_1.T.dot(layer_2_delta)\n",
    "            weights_0_1 += alpha * layer_0.T.dot(layer_1_delta)\n",
    "            \n",
    "            \n",
    "    if (j % 10 == 0):\n",
    "        test_error = 0.0\n",
    "        test_count = 0\n",
    "        for i in range (len(test_images)):\n",
    "            layer_0_test = test_images[i:i+1]\n",
    "            layer_1_test = relu(np.dot(layer_0_test,weights_0_1))\n",
    "            layer_2_test = np.dot(layer_1_test,weights_1_2)\n",
    "            \n",
    "            test_count += int(np.argmax(layer_2_test) == np.argmax(test_labels[i:i+1]))\n",
    "            test_error += np.sum( test_labels[i:i+1] - layer_2_test ) ** 2\n",
    "    \n",
    "        sys.stdout.write(\"\\n\" + \\\n",
    "                             \"I:\" + str(j) + \\\n",
    "                             \" Test-Err:\" + str(test_error/ float(len(test_images)))[0:5] +\\\n",
    "                             \" Test-Acc:\" + str(test_count/ float(len(test_images)))+\\\n",
    "                             \" Train-Err:\" + str(error/ float(len(images)))[0:5] +\\\n",
    "                             \" Train-Acc:\" + str(correct_cnt/ float(len(images))))"
   ]
  }
 ],
 "metadata": {
  "kernelspec": {
   "display_name": "Python 3",
   "language": "python",
   "name": "python3"
  },
  "language_info": {
   "codemirror_mode": {
    "name": "ipython",
    "version": 3
   },
   "file_extension": ".py",
   "mimetype": "text/x-python",
   "name": "python",
   "nbconvert_exporter": "python",
   "pygments_lexer": "ipython3",
   "version": "3.7.6"
  }
 },
 "nbformat": 4,
 "nbformat_minor": 4
}
